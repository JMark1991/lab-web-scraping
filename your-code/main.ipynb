{
 "cells": [
  {
   "cell_type": "markdown",
   "metadata": {},
   "source": [
    "# Web Scraping Lab\n",
    "\n",
    "You will find in this notebook some scrapy exercises to practise your scraping skills.\n",
    "\n",
    "**Tips:**\n",
    "\n",
    "- Check the response status code for each request to ensure you have obtained the intended content.\n",
    "- Print the response text in each request to understand the kind of info you are getting and its format.\n",
    "- Check for patterns in the response text to extract the data/info requested in each question.\n",
    "- Visit the urls below and take a look at their source code through Chrome DevTools. You'll need to identify the html tags, special class names, etc used in the html content you are expected to extract.\n",
    "\n",
    "**Resources**:\n",
    "- [Requests library](http://docs.python-requests.org/en/master/#the-user-guide)\n",
    "- [Beautiful Soup Doc](https://www.crummy.com/software/BeautifulSoup/bs4/doc/)\n",
    "- [Urllib](https://docs.python.org/3/library/urllib.html#module-urllib)\n",
    "- [re lib](https://docs.python.org/3/library/re.html)\n",
    "- [lxml lib](https://lxml.de/)\n",
    "- [Scrapy](https://scrapy.org/)\n",
    "- [List of HTTP status codes](https://en.wikipedia.org/wiki/List_of_HTTP_status_codes)\n",
    "- [HTML basics](http://www.simplehtmlguide.com/cheatsheet.php)\n",
    "- [CSS basics](https://www.cssbasics.com/#page_start)"
   ]
  },
  {
   "cell_type": "markdown",
   "metadata": {},
   "source": [
    "#### Below are the libraries and modules you may need. `requests`,  `BeautifulSoup` and `pandas` are already imported for you. If you prefer to use additional libraries feel free to do it."
   ]
  },
  {
   "cell_type": "code",
   "execution_count": 5,
   "metadata": {},
   "outputs": [],
   "source": [
    "import requests\n",
    "from bs4 import BeautifulSoup\n",
    "import pandas as pd"
   ]
  },
  {
   "cell_type": "markdown",
   "metadata": {},
   "source": [
    "#### Download, parse (using BeautifulSoup), and print the content from the Trending Developers page from GitHub:"
   ]
  },
  {
   "cell_type": "code",
   "execution_count": 6,
   "metadata": {},
   "outputs": [],
   "source": [
    "# This is the url you will scrape in this exercise\n",
    "url = 'https://github.com/trending/developers'"
   ]
  },
  {
   "cell_type": "code",
   "execution_count": 7,
   "metadata": {},
   "outputs": [
    {
     "output_type": "execute_result",
     "data": {
      "text/plain": "<Response [200]>"
     },
     "metadata": {},
     "execution_count": 7
    }
   ],
   "source": [
    "# your code here\n",
    "response = requests.get(url)\n",
    "response\n",
    "\n"
   ]
  },
  {
   "cell_type": "code",
   "execution_count": 8,
   "metadata": {
    "tags": [
     "outputPrepend"
    ]
   },
   "outputs": [
    {
     "output_type": "stream",
     "name": "stdout",
     "text": "4-3-2.75-3-1.373 0-2.609.986-3.029 2.456a.75.75 0 01-1.442 0C6.859 3.486 5.623 2.5 4.25 2.5zM8 14.25l-.345.666-.002-.001-.006-.003-.018-.01a7.643 7.643 0 01-.31-.17 22.075 22.075 0 01-3.434-2.414C2.045 10.731 0 8.35 0 5.5 0 2.836 2.086 1 4.25 1 5.797 1 7.153 1.802 8 3.02 8.847 1.802 10.203 1 11.75 1 13.914 1 16 2.836 16 5.5c0 2.85-2.045 5.231-3.885 6.818a22.08 22.08 0 01-3.744 2.584l-.018.01-.006.003h-.002L8 14.25zm0 0l.345.666a.752.752 0 01-.69 0L8 14.25z\" fill-rule=\"evenodd\">\n             </path>\n            </svg>\n            <span class=\"ml-1\">\n             Sponsor\n            </span>\n           </a>\n          </div>\n          <div class=\"user-profile-following-container\">\n           <div class=\"user-following-container\">\n            <span class=\"user-following-container\">\n             <span class=\"follow\">\n              <a class=\"btn btn-sm btn-block\" data-hydro-click='{\"event_type\":\"authentication.click\",\"payload\":{\"location_in_page\":\"follow button\",\"repository_id\":null,\"auth_type\":\"LOG_IN\",\"originating_url\":\"https://github.com/trending/developers\",\"user_id\":null}}' data-hydro-click-hmac=\"758ca9b951a863373b9dca2759329881977e0c89c5a5b03c5cc5efdefcb67f4a\" href=\"/login?return_to=%2Ftrending%2Fdevelopers\">\n               Follow\n              </a>\n             </span>\n            </span>\n           </div>\n          </div>\n         </div>\n        </div>\n       </article>\n      </div>\n     </div>\n    </div>\n   </main>\n  </div>\n  <footer class=\"footer mt-6\">\n   <div class=\"container-lg p-responsive\">\n    <div class=\"d-flex flex-wrap py-5 mb-5\">\n     <div class=\"col-12 col-lg-4 mb-5\">\n      <a aria-label=\"Go to GitHub homepage\" class=\"text-gray-dark\" data-ga-click=\"Footer, go to home, text:home\" href=\"/\">\n       <svg aria-hidden=\"true\" class=\"octicon octicon-logo-github\" height=\"30\" version=\"1.1\" viewbox=\"0 0 45 16\" width=\"84\">\n        <path d=\"M18.53 12.03h-.02c.009 0 .015.01.024.011h.006l-.01-.01zm.004.011c-.093.001-.327.05-.574.05-.78 0-1.05-.36-1.05-.83V8.13h1.59c.09 0 .16-.08.16-.19v-1.7c0-.09-.08-.17-.16-.17h-1.59V3.96c0-.08-.05-.13-.14-.13h-2.16c-.09 0-.14.05-.14.13v2.17s-1.09.27-1.16.28c-.08.02-.13.09-.13.17v1.36c0 .11.08.19.17.19h1.11v3.28c0 2.44 1.7 2.69 2.86 2.69.53 0 1.17-.17 1.27-.22.06-.02.09-.09.09-.16v-1.5a.177.177 0 00-.146-.18zM42.23 9.84c0-1.81-.73-2.05-1.5-1.97-.6.04-1.08.34-1.08.34v3.52s.49.34 1.22.36c1.03.03 1.36-.34 1.36-2.25zm2.43-.16c0 3.43-1.11 4.41-3.05 4.41-1.64 0-2.52-.83-2.52-.83s-.04.46-.09.52c-.03.06-.08.08-.14.08h-1.48c-.1 0-.19-.08-.19-.17l.02-11.11c0-.09.08-.17.17-.17h2.13c.09 0 .17.08.17.17v3.77s.82-.53 2.02-.53l-.01-.02c1.2 0 2.97.45 2.97 3.88zm-8.72-3.61h-2.1c-.11 0-.17.08-.17.19v5.44s-.55.39-1.3.39-.97-.34-.97-1.09V6.25c0-.09-.08-.17-.17-.17h-2.14c-.09 0-.17.08-.17.17v5.11c0 2.2 1.23 2.75 2.92 2.75 1.39 0 2.52-.77 2.52-.77s.05.39.08.45c.02.05.09.09.16.09h1.34c.11 0 .17-.08.17-.17l.02-7.47c0-.09-.08-.17-.19-.17zm-23.7-.01h-2.13c-.09 0-.17.09-.17.2v7.34c0 .2.13.27.3.27h1.92c.2 0 .25-.09.25-.27V6.23c0-.09-.08-.17-.17-.17zm-1.05-3.38c-.77 0-1.38.61-1.38 1.38 0 .77.61 1.38 1.38 1.38.75 0 1.36-.61 1.36-1.38 0-.77-.61-1.38-1.36-1.38zm16.49-.25h-2.11c-.09 0-.17.08-.17.17v4.09h-3.31V2.6c0-.09-.08-.17-.17-.17h-2.13c-.09 0-.17.08-.17.17v11.11c0 .09.09.17.17.17h2.13c.09 0 .17-.08.17-.17V8.96h3.31l-.02 4.75c0 .09.08.17.17.17h2.13c.09 0 .17-.08.17-.17V2.6c0-.09-.08-.17-.17-.17zM8.81 7.35v5.74c0 .04-.01.11-.06.13 0 0-1.25.89-3.31.89-2.49 0-5.44-.78-5.44-5.92S2.58 1.99 5.1 2c2.18 0 3.06.49 3.2.58.04.05.06.09.06.14L7.94 4.5c0 .09-.09.2-.2.17-.36-.11-.9-.33-2.17-.33-1.47 0-3.05.42-3.05 3.73s1.5 3.7 2.58 3.7c.92 0 1.25-.11 1.25-.11v-2.3H4.88c-.11 0-.19-.08-.19-.17V7.35c0-.09.08-.17.19-.17h3.74c.11 0 .19.08.19.17z\" fill-rule=\"evenodd\">\n        </path>\n       </svg>\n      </a>\n     </div>\n     <div class=\"col-6 col-sm-3 col-lg-2 mb-6 mb-md-2 pr-3 pr-lg-0 pl-lg-4\">\n      <h2 class=\"h5 mb-3 text-mono text-gray-light text-normal\">\n       Product\n      </h2>\n      <ul class=\"list-style-none text-gray f5\">\n       <li class=\"lh-condensed mb-3\">\n        <a class=\"link-gray\" data-ga-click=\"Footer, go to features, text:features\" href=\"/features\">\n         Features\n        </a>\n       </li>\n       <li class=\"lh-condensed mb-3\">\n        <a class=\"link-gray\" data-ga-click=\"Footer, go to security, text:security\" href=\"/security\">\n         Security\n        </a>\n       </li>\n       <li class=\"lh-condensed mb-3\">\n        <a class=\"link-gray\" data-ga-click=\"Footer, go to team, text:team\" href=\"/team\">\n         Team\n        </a>\n       </li>\n       <li class=\"lh-condensed mb-3\">\n        <a class=\"link-gray\" data-ga-click=\"Footer, go to enterprise, text:enterprise\" href=\"/enterprise\">\n         Enterprise\n        </a>\n       </li>\n       <li class=\"lh-condensed mb-3\">\n        <a class=\"link-gray\" data-ga-click=\"Footer, go to customer stories, text:customer stories\" href=\"/customer-stories\">\n         Customer stories\n        </a>\n       </li>\n       <li class=\"lh-condensed mb-3\">\n        <a class=\"link-gray\" data-ga-click=\"Footer, go to pricing, text:pricing\" href=\"/pricing\">\n         Pricing\n        </a>\n       </li>\n       <li class=\"lh-condensed mb-3\">\n        <a class=\"link-gray\" data-ga-click=\"Footer, go to resources, text:resources\" href=\"https://resources.github.com\">\n         Resources\n        </a>\n       </li>\n      </ul>\n     </div>\n     <div class=\"col-6 col-sm-3 col-lg-2 mb-6 mb-md-2 pr-3 pr-md-0 pl-md-4\">\n      <h2 class=\"h5 mb-3 text-mono text-gray-light text-normal\">\n       Platform\n      </h2>\n      <ul class=\"list-style-none f5\">\n       <li class=\"lh-condensed mb-3\">\n        <a class=\"link-gray\" data-ga-click=\"Footer, go to api, text:api\" href=\"https://developer.github.com\">\n         Developer API\n        </a>\n       </li>\n       <li class=\"lh-condensed mb-3\">\n        <a class=\"link-gray\" data-ga-click=\"Footer, go to partner, text:partner\" href=\"http://partner.github.com/\">\n         Partners\n        </a>\n       </li>\n       <li class=\"lh-condensed mb-3\">\n        <a class=\"link-gray\" data-ga-click=\"Footer, go to atom, text:atom\" href=\"https://atom.io\">\n         Atom\n        </a>\n       </li>\n       <li class=\"lh-condensed mb-3\">\n        <a class=\"link-gray\" data-ga-click=\"Footer, go to electron, text:electron\" href=\"http://electronjs.org\">\n         Electron\n        </a>\n       </li>\n       <li class=\"lh-condensed mb-3\">\n        <a class=\"link-gray\" data-ga-click=\"Footer, go to desktop, text:desktop\" href=\"https://desktop.github.com/\">\n         GitHub Desktop\n        </a>\n       </li>\n      </ul>\n     </div>\n     <div class=\"col-6 col-sm-3 col-lg-2 mb-6 mb-md-2 pr-3 pr-md-0 pl-md-4\">\n      <h2 class=\"h5 mb-3 text-mono text-gray-light text-normal\">\n       Support\n      </h2>\n      <ul class=\"list-style-none f5\">\n       <li class=\"lh-condensed mb-3\">\n        <a class=\"link-gray\" data-ga-click=\"Footer, go to help, text:help\" href=\"https://help.github.com\">\n         Help\n        </a>\n       </li>\n       <li class=\"lh-condensed mb-3\">\n        <a class=\"link-gray\" data-ga-click=\"Footer, go to community, text:community\" href=\"https://github.community\">\n         Community Forum\n        </a>\n       </li>\n       <li class=\"lh-condensed mb-3\">\n        <a class=\"link-gray\" data-ga-click=\"Footer, go to professional services, text:professional services\" href=\"https://services.github.com/\">\n         Professional Services\n        </a>\n       </li>\n       <li class=\"lh-condensed mb-3\">\n        <a class=\"link-gray\" data-ga-click=\"Footer, go to learning lab, text:learning lab\" href=\"https://lab.github.com/\">\n         Learning Lab\n        </a>\n       </li>\n       <li class=\"lh-condensed mb-3\">\n        <a class=\"link-gray\" data-ga-click=\"Footer, go to status, text:status\" href=\"https://githubstatus.com/\">\n         Status\n        </a>\n       </li>\n       <li class=\"lh-condensed mb-3\">\n        <a class=\"link-gray\" data-ga-click=\"Footer, go to contact, text:contact\" href=\"https://github.com/contact\">\n         Contact GitHub\n        </a>\n       </li>\n      </ul>\n     </div>\n     <div class=\"col-6 col-sm-3 col-lg-2 mb-6 mb-md-2 pr-3 pr-md-0 pl-md-4\">\n      <h2 class=\"h5 mb-3 text-mono text-gray-light text-normal\">\n       Company\n      </h2>\n      <ul class=\"list-style-none f5\">\n       <li class=\"lh-condensed mb-3\">\n        <a class=\"link-gray\" data-ga-click=\"Footer, go to about, text:about\" href=\"https://github.com/about\">\n         About\n        </a>\n       </li>\n       <li class=\"lh-condensed mb-3\">\n        <a class=\"link-gray\" data-ga-click=\"Footer, go to blog, text:blog\" href=\"https://github.blog\">\n         Blog\n        </a>\n       </li>\n       <li class=\"lh-condensed mb-3\">\n        <a class=\"link-gray\" data-ga-click=\"Footer, go to careers, text:careers\" href=\"/about/careers\">\n         Careers\n        </a>\n       </li>\n       <li class=\"lh-condensed mb-3\">\n        <a class=\"link-gray\" data-ga-click=\"Footer, go to press, text:press\" href=\"/about/press\">\n         Press\n        </a>\n       </li>\n       <li class=\"lh-condensed mb-3\">\n        <a class=\"link-gray\" data-ga-click=\"Footer, go to social impact, text:social impact\" href=\"https://socialimpact.github.com/\">\n         Social Impact\n        </a>\n       </li>\n       <li class=\"lh-condensed mb-3\">\n        <a class=\"link-gray\" data-ga-click=\"Footer, go to shop, text:shop\" href=\"https://shop.github.com\">\n         Shop\n        </a>\n       </li>\n      </ul>\n     </div>\n    </div>\n   </div>\n   <div class=\"bg-gray-light\">\n    <div class=\"container-lg p-responsive f6 py-4 d-sm-flex flex-justify-between flex-row-reverse flex-items-center\">\n     <ul class=\"list-style-none d-flex flex-items-center mb-3 mb-sm-0 lh-condensed-ultra\">\n      <li class=\"mr-3\">\n       <a data-ga-click=\"Footer, go to Twitter, text:twitter\" href=\"https://twitter.com/github\" style=\"color: #959da5;\" title=\"GitHub on Twitter\">\n        <svg class=\"d-block\" height=\"18\" viewbox=\"0 0 273.5 222.3\" xmlns=\"http://www.w3.org/2000/svg\">\n         <path d=\"M273.5 26.3a109.77 109.77 0 0 1-32.2 8.8 56.07 56.07 0 0 0 24.7-31 113.39 113.39 0 0 1-35.7 13.6 56.1 56.1 0 0 0-97 38.4 54 54 0 0 0 1.5 12.8A159.68 159.68 0 0 1 19.1 10.3a56.12 56.12 0 0 0 17.4 74.9 56.06 56.06 0 0 1-25.4-7v.7a56.11 56.11 0 0 0 45 55 55.65 55.65 0 0 1-14.8 2 62.39 62.39 0 0 1-10.6-1 56.24 56.24 0 0 0 52.4 39 112.87 112.87 0 0 1-69.7 24 119 119 0 0 1-13.4-.8 158.83 158.83 0 0 0 86 25.2c103.2 0 159.6-85.5 159.6-159.6 0-2.4-.1-4.9-.2-7.3a114.25 114.25 0 0 0 28.1-29.1\" fill=\"currentColor\">\n         </path>\n        </svg>\n       </a>\n      </li>\n      <li class=\"mr-3\">\n       <a data-ga-click=\"Footer, go to Facebook, text:facebook\" href=\"https://www.facebook.com/GitHub\" style=\"color: #959da5;\" title=\"GitHub on Facebook\">\n        <svg class=\"d-block\" height=\"18\" viewbox=\"0 0 15.3 15.4\" xmlns=\"http://www.w3.org/2000/svg\">\n         <path d=\"M14.5 0H.8a.88.88 0 0 0-.8.9v13.6a.88.88 0 0 0 .8.9h7.3v-6h-2V7.1h2V5.4a2.87 2.87 0 0 1 2.5-3.1h.5a10.87 10.87 0 0 1 1.8.1v2.1h-1.3c-1 0-1.1.5-1.1 1.1v1.5h2.3l-.3 2.3h-2v5.9h3.9a.88.88 0 0 0 .9-.8V.8a.86.86 0 0 0-.8-.8z\" fill=\"currentColor\">\n         </path>\n        </svg>\n       </a>\n      </li>\n      <li class=\"mr-3\">\n       <a data-ga-click=\"Footer, go to YouTube, text:youtube\" href=\"https://www.youtube.com/github\" style=\"color: #959da5;\" title=\"GitHub on YouTube\">\n        <svg class=\"d-block\" height=\"16\" viewbox=\"0 0 19.17 13.6\" xmlns=\"http://www.w3.org/2000/svg\">\n         <path d=\"M18.77 2.13A2.4 2.4 0 0 0 17.09.42C15.59 0 9.58 0 9.58 0a57.55 57.55 0 0 0-7.5.4A2.49 2.49 0 0 0 .39 2.13 26.27 26.27 0 0 0 0 6.8a26.15 26.15 0 0 0 .39 4.67 2.43 2.43 0 0 0 1.69 1.71c1.52.42 7.5.42 7.5.42a57.69 57.69 0 0 0 7.51-.4 2.4 2.4 0 0 0 1.68-1.71 25.63 25.63 0 0 0 .4-4.67 24 24 0 0 0-.4-4.69zM7.67 9.71V3.89l5 2.91z\" fill=\"currentColor\">\n         </path>\n        </svg>\n       </a>\n      </li>\n      <li class=\"mr-3 flex-self-start\">\n       <a data-ga-click=\"Footer, go to Linkedin, text:linkedin\" href=\"https://www.linkedin.com/company/github\" style=\"color: #959da5;\" title=\"GitHub on Linkedin\">\n        <svg class=\"d-block\" height=\"18\" viewbox=\"0 0 19 18\" xmlns=\"http://www.w3.org/2000/svg\">\n         <path d=\"M3.94 2A2 2 0 1 1 2 0a2 2 0 0 1 1.94 2zM4 5.48H0V18h4zm6.32 0H6.34V18h3.94v-6.57c0-3.66 4.77-4 4.77 0V18H19v-7.93c0-6.17-7.06-5.94-8.72-2.91z\" fill=\"currentColor\">\n         </path>\n        </svg>\n       </a>\n      </li>\n      <li>\n       <a data-ga-click=\"Footer, go to github's org, text:github\" href=\"https://github.com/github\" style=\"color: #959da5;\" title=\"GitHub's organization\">\n        <svg alt=\"GitHub\" aria-hidden=\"true\" class=\"octicon octicon-mark-github d-block\" height=\"20\" version=\"1.1\" viewbox=\"0 0 16 16\" width=\"20\">\n         <path d=\"M8 0C3.58 0 0 3.58 0 8c0 3.54 2.29 6.53 5.47 7.59.4.07.55-.17.55-.38 0-.19-.01-.82-.01-1.49-2.01.37-2.53-.49-2.69-.94-.09-.23-.48-.94-.82-1.13-.28-.15-.68-.52-.01-.53.63-.01 1.08.58 1.23.82.72 1.21 1.87.87 2.33.66.07-.52.28-.87.51-1.07-1.78-.2-3.64-.89-3.64-3.95 0-.87.31-1.59.82-2.15-.08-.2-.36-1.02.08-2.12 0 0 .67-.21 2.2.82.64-.18 1.32-.27 2-.27.68 0 1.36.09 2 .27 1.53-1.04 2.2-.82 2.2-.82.44 1.1.16 1.92.08 2.12.51.56.82 1.27.82 2.15 0 3.07-1.87 3.75-3.65 3.95.29.25.54.73.54 1.48 0 1.07-.01 1.93-.01 2.2 0 .21.15.46.55.38A8.013 8.013 0 0016 8c0-4.42-3.58-8-8-8z\" fill-rule=\"evenodd\">\n         </path>\n        </svg>\n       </a>\n      </li>\n     </ul>\n     <ul class=\"list-style-none d-flex text-gray\">\n      <li class=\"mr-3\">\n       © 2020 GitHub, Inc.\n      </li>\n      <li class=\"mr-3\">\n       <a class=\"link-gray\" data-ga-click=\"Footer, go to terms, text:terms\" href=\"/site/terms\">\n        Terms\n       </a>\n      </li>\n      <li class=\"mr-3\">\n       <a class=\"link-gray\" data-ga-click=\"Footer, go to privacy, text:privacy\" href=\"/site/privacy\">\n        Privacy\n       </a>\n      </li>\n      <li class=\"mr-3\">\n       <a class=\"link-gray\" data-ga-click=\"Footer, go to site map, text:site map\" href=\"/site-map\">\n        Site Map\n       </a>\n      </li>\n      <li>\n       <a class=\"link-gray\" data-ga-click=\"Footer, go to Git Guides, text:What is Git?\" href=\"/git-guides\">\n        What is Git?\n       </a>\n      </li>\n     </ul>\n    </div>\n   </div>\n  </footer>\n  <div class=\"ajax-error-message flash flash-error\" id=\"ajax-error-message\">\n   <svg aria-hidden=\"true\" class=\"octicon octicon-alert\" height=\"16\" version=\"1.1\" viewbox=\"0 0 16 16\" width=\"16\">\n    <path d=\"M8.22 1.754a.25.25 0 00-.44 0L1.698 13.132a.25.25 0 00.22.368h12.164a.25.25 0 00.22-.368L8.22 1.754zm-1.763-.707c.659-1.234 2.427-1.234 3.086 0l6.082 11.378A1.75 1.75 0 0114.082 15H1.918a1.75 1.75 0 01-1.543-2.575L6.457 1.047zM9 11a1 1 0 11-2 0 1 1 0 012 0zm-.25-5.25a.75.75 0 00-1.5 0v2.5a.75.75 0 001.5 0v-2.5z\" fill-rule=\"evenodd\">\n    </path>\n   </svg>\n   <button aria-label=\"Dismiss error\" class=\"flash-close js-ajax-error-dismiss\" type=\"button\">\n    <svg aria-hidden=\"true\" class=\"octicon octicon-x\" height=\"16\" version=\"1.1\" viewbox=\"0 0 16 16\" width=\"16\">\n     <path d=\"M3.72 3.72a.75.75 0 011.06 0L8 6.94l3.22-3.22a.75.75 0 111.06 1.06L9.06 8l3.22 3.22a.75.75 0 11-1.06 1.06L8 9.06l-3.22 3.22a.75.75 0 01-1.06-1.06L6.94 8 3.72 4.78a.75.75 0 010-1.06z\" fill-rule=\"evenodd\">\n     </path>\n    </svg>\n   </button>\n   You can’t perform that action at this time.\n  </div>\n  <script async=\"async\" crossorigin=\"anonymous\" data-src=\"https://github.githubassets.com/assets/compat-bootstrap-6e7ff7ac.js\" id=\"js-conditional-compat\" integrity=\"sha512-bn/3rKJzBl2H64K38R8KaVcT26vKK7BJQC59lwYc+9fjlHzmy0fwh+hzBtsgTdhIi13dxjzNKWhdSN8WTM9qUw==\" type=\"application/javascript\">\n  </script>\n  <script crossorigin=\"anonymous\" integrity=\"sha512-XNLSAtJd4ZwEwjHoDp3kUwQHzrFIGmr4hnTNxaOl19CD7LbW//VRhLG8X9u4fYNYg+vusR8c1MeXG1foPhzJGQ==\" src=\"https://github.githubassets.com/assets/environment-bootstrap-5cd2d202.js\" type=\"application/javascript\">\n  </script>\n  <script async=\"async\" crossorigin=\"anonymous\" integrity=\"sha512-zWY8EzLOLze5ZiuCHJoHWcWKbliugmd732H33vQ63ul0B+5ALjXxYdYB8blpdd9MNp6qTuDJpH11XhrxqkXR5A==\" src=\"https://github.githubassets.com/assets/vendor-cd663c13.js\" type=\"application/javascript\">\n  </script>\n  <script async=\"async\" crossorigin=\"anonymous\" integrity=\"sha512-1DLbSpclP443hCajIf+yXbHfi8a5SRZ4VEr89kYyQ7HG+djNRyLa1S8plbXMkQbdPMKx35ckTrbOvMt3z+f9Eg==\" src=\"https://github.githubassets.com/assets/frameworks-d432db4a.js\" type=\"application/javascript\">\n  </script>\n  <script async=\"async\" crossorigin=\"anonymous\" integrity=\"sha512-YUKBBXWdxvosOM8oncAbxzXQ4da2C0wq2Vpi9bGTtz8WND3A95hI0JYXV8u35EZp81/F8zeNx1zlA8Fxe7THVQ==\" src=\"https://github.githubassets.com/assets/github-bootstrap-61428105.js\" type=\"application/javascript\">\n  </script>\n  <script async=\"async\" crossorigin=\"anonymous\" data-module-id=\"./Sortable.js\" data-src=\"https://github.githubassets.com/assets/Sortable-47de8c33.js\" integrity=\"sha512-R96MM8s0Y6IohqxZNKDeymadVcVg1KjV6E71KYykaisTYDPGpONjop8kGyNY5DSOJEsFp3737xpcjEo1a333WQ==\" type=\"application/javascript\">\n  </script>\n  <script async=\"async\" crossorigin=\"anonymous\" data-module-id=\"./drag-drop.js\" data-src=\"https://github.githubassets.com/assets/drag-drop-e0671258.js\" integrity=\"sha512-4GcSWGoe36+BoWho4gtJcByZe8j43w+lt2/PDe3rmBxRVSgD29YipDwuIywe8fvOd2b2CszBqaPGxSznUtE3Xg==\" type=\"application/javascript\">\n  </script>\n  <script async=\"async\" crossorigin=\"anonymous\" data-module-id=\"./gist-vendor.js\" data-src=\"https://github.githubassets.com/assets/gist-vendor-da4f1d0c.js\" integrity=\"sha512-2k8dDHk0yt52uKvOvgc9cwOXOeJhxBfVP5kPS2BrCdytDmtEIJ2yone26vFENAyk1a2aFQ7KDgEevRQafuAf8A==\" type=\"application/javascript\">\n  </script>\n  <script async=\"async\" crossorigin=\"anonymous\" data-module-id=\"./randomColor.js\" data-src=\"https://github.githubassets.com/assets/randomColor-05cedf2b.js\" integrity=\"sha512-Bc7fK3x3D97t//yKXJFTcKAZWc+DoBkyOGeSrGKN6K1s+A5rkUmH7M+HuvXOQEd+5pBqcB/LKYTbItFp7J4mjg==\" type=\"application/javascript\">\n  </script>\n  <div class=\"js-stale-session-flash flash flash-warn flash-banner\" hidden=\"\">\n   <svg aria-hidden=\"true\" class=\"octicon octicon-alert\" height=\"16\" version=\"1.1\" viewbox=\"0 0 16 16\" width=\"16\">\n    <path d=\"M8.22 1.754a.25.25 0 00-.44 0L1.698 13.132a.25.25 0 00.22.368h12.164a.25.25 0 00.22-.368L8.22 1.754zm-1.763-.707c.659-1.234 2.427-1.234 3.086 0l6.082 11.378A1.75 1.75 0 0114.082 15H1.918a1.75 1.75 0 01-1.543-2.575L6.457 1.047zM9 11a1 1 0 11-2 0 1 1 0 012 0zm-.25-5.25a.75.75 0 00-1.5 0v2.5a.75.75 0 001.5 0v-2.5z\" fill-rule=\"evenodd\">\n    </path>\n   </svg>\n   <span class=\"js-stale-session-flash-signed-in\" hidden=\"\">\n    You signed in with another tab or window.\n    <a href=\"\">\n     Reload\n    </a>\n    to refresh your session.\n   </span>\n   <span class=\"js-stale-session-flash-signed-out\" hidden=\"\">\n    You signed out in another tab or window.\n    <a href=\"\">\n     Reload\n    </a>\n    to refresh your session.\n   </span>\n  </div>\n  <template id=\"site-details-dialog\">\n   <details class=\"details-reset details-overlay details-overlay-dark lh-default text-gray-dark hx_rsm\" open=\"\">\n    <summary aria-label=\"Close dialog\" role=\"button\">\n    </summary>\n    <details-dialog class=\"Box Box--overlay d-flex flex-column anim-fade-in fast hx_rsm-dialog hx_rsm-modal\">\n     <button aria-label=\"Close dialog\" class=\"Box-btn-octicon m-0 btn-octicon position-absolute right-0 top-0\" data-close-dialog=\"\" type=\"button\">\n      <svg aria-hidden=\"true\" class=\"octicon octicon-x\" height=\"16\" version=\"1.1\" viewbox=\"0 0 16 16\" width=\"16\">\n       <path d=\"M3.72 3.72a.75.75 0 011.06 0L8 6.94l3.22-3.22a.75.75 0 111.06 1.06L9.06 8l3.22 3.22a.75.75 0 11-1.06 1.06L8 9.06l-3.22 3.22a.75.75 0 01-1.06-1.06L6.94 8 3.72 4.78a.75.75 0 010-1.06z\" fill-rule=\"evenodd\">\n       </path>\n      </svg>\n     </button>\n     <div class=\"octocat-spinner my-6 js-details-dialog-spinner\">\n     </div>\n    </details-dialog>\n   </details>\n  </template>\n  <div class=\"Popover js-hovercard-content position-absolute\" style=\"display: none; outline: none;\" tabindex=\"0\">\n   <div class=\"Popover-message Popover-message--bottom-left Popover-message--large Box box-shadow-large\" style=\"width:360px;\">\n   </div>\n  </div>\n </body>\n</html>\n\n"
    }
   ],
   "source": [
    "soup = BeautifulSoup(response.content, features='lxml')\n",
    "print(soup.prettify())"
   ]
  },
  {
   "cell_type": "code",
   "execution_count": 123,
   "metadata": {},
   "outputs": [
    {
     "output_type": "error",
     "ename": "AttributeError",
     "evalue": "'NoneType' object has no attribute 'title'",
     "traceback": [
      "\u001b[1;31m---------------------------------------------------------------------------\u001b[0m",
      "\u001b[1;31mAttributeError\u001b[0m                            Traceback (most recent call last)",
      "\u001b[1;32m<ipython-input-123-302fa415316d>\u001b[0m in \u001b[0;36m<module>\u001b[1;34m\u001b[0m\n\u001b[1;32m----> 1\u001b[1;33m \u001b[0msoup\u001b[0m\u001b[1;33m.\u001b[0m\u001b[0mtitlesoup\u001b[0m\u001b[1;33m.\u001b[0m\u001b[0mtitle\u001b[0m\u001b[1;33m\u001b[0m\u001b[1;33m\u001b[0m\u001b[0m\n\u001b[0m",
      "\u001b[1;31mAttributeError\u001b[0m: 'NoneType' object has no attribute 'title'"
     ]
    }
   ],
   "source": []
  },
  {
   "cell_type": "markdown",
   "metadata": {},
   "source": [
    "#### 1. Display the names of the trending developers retrieved in the previous step.\n",
    "\n",
    "Your output should be a Python list of developer names. Each name should not contain any html tag.\n",
    "\n",
    "**Instructions:**\n",
    "\n",
    "1. Find out the html tag and class names used for the developer names. You can achieve this using Chrome DevTools or clicking in 'Inspect' on any browser. Here is an example:\n",
    "\n",
    "![title](example_1.png)\n",
    "\n",
    "2. Use BeautifulSoup `find_all()` to extract all the html elements that contain the developer names. Hint: pass in the `attrs` parameter to specify the class.\n",
    "\n",
    "3. Loop through the elements found and get the text for each of them.\n",
    "\n",
    "4. While you are at it, use string manipulation techniques to replace whitespaces and linebreaks (i.e. `\\n`) in the *text* of each html element. Use a list to store the clean names. Hint: you may also use `.get_text()` instead of `.text` and pass in the desired parameters to do some string manipulation (check the documentation).\n",
    "\n",
    "5. Print the list of names.\n",
    "\n",
    "Your output should look like below:\n",
    "\n",
    "```\n",
    "['trimstray (@trimstray)',\n",
    " 'joewalnes (JoeWalnes)',\n",
    " 'charlax (Charles-AxelDein)',\n",
    " 'ForrestKnight (ForrestKnight)',\n",
    " 'revery-ui (revery-ui)',\n",
    " 'alibaba (Alibaba)',\n",
    " 'Microsoft (Microsoft)',\n",
    " 'github (GitHub)',\n",
    " 'facebook (Facebook)',\n",
    " 'boazsegev (Bo)',\n",
    " 'google (Google)',\n",
    " 'cloudfetch',\n",
    " 'sindresorhus (SindreSorhus)',\n",
    " 'tensorflow',\n",
    " 'apache (TheApacheSoftwareFoundation)',\n",
    " 'DevonCrawford (DevonCrawford)',\n",
    " 'ARMmbed (ArmMbed)',\n",
    " 'vuejs (vuejs)',\n",
    " 'fastai (fast.ai)',\n",
    " 'QiShaoXuan (Qi)',\n",
    " 'joelparkerhenderson (JoelParkerHenderson)',\n",
    " 'torvalds (LinusTorvalds)',\n",
    " 'CyC2018',\n",
    " 'komeiji-satori (神楽坂覚々)',\n",
    " 'script-8']\n",
    " ```"
   ]
  },
  {
   "cell_type": "code",
   "execution_count": 9,
   "metadata": {},
   "outputs": [],
   "source": [
    "# your code here\n",
    "dev_list = []\n",
    "\n",
    "dev_names = soup.find_all('h1', attrs={'class':'h3 lh-condensed'})\n",
    "dev_nicks = soup.find_all('p', attrs={'class':'f4 text-normal mb-1'})\n",
    "\n",
    "for n in range(len(dev_nicks)):\n",
    "\n",
    "    dev_name = dev_names[n].get_text(' ',strip=True).replace(' ','')\n",
    "    dev_nick = dev_nicks[n].get_text(strip=True)\n",
    "\n",
    "    dev_list.append(f'{dev_nick} ({dev_name})')\n"
   ]
  },
  {
   "cell_type": "code",
   "execution_count": 10,
   "metadata": {
    "tags": []
   },
   "outputs": [
    {
     "output_type": "stream",
     "name": "stdout",
     "text": "['anuraghazra (AnuragHazra)', 'tiangolo (SebastiánRamírez)', 'stefanprodan (StefanProdan)', 'tanner0101 (Tanner)', 'cytopia (cytopia)', 'samuelcolvin (SamuelColvin)', 'hrydgard (HenrikRydgård)', 'satya164 (SatyajitSahoo)', 'bflad (BrianFlad)', 'ai (AndreySitnik)', 'jsuarezruiz (JavierSuárez)', 'zachleat (ZachLeatherman)', 'rickbergfalk (RickBergfalk)', 'bwplotka (BartlomiejPlotka)', 'nlohmann (NielsLohmann)', 'connor4312 (ConnorPeet)', 'curran (CurranKelleher)', 'dpgaspar (DanielVazGaspar)', 'streamich (VadimDalecky)', 'codehag (yulia)', 'bpasero (BenjaminPasero)', 'jaydenseric (JaydenSeric)', 'maliming (maliming)', 'BYK (BurakYigitKaya)', 'orta (OrtaTherox)']\n"
    }
   ],
   "source": [
    "\n",
    "print(dev_list)"
   ]
  },
  {
   "cell_type": "markdown",
   "metadata": {},
   "source": [
    "#### 1.1. Display the trending Python repositories in GitHub.\n",
    "\n",
    "The steps to solve this problem is similar to the previous one except that you need to find out the repository names instead of developer names."
   ]
  },
  {
   "cell_type": "code",
   "execution_count": 11,
   "metadata": {},
   "outputs": [],
   "source": [
    "# This is the url you will scrape in this exercise\n",
    "url = 'https://github.com/trending/python?since=daily'"
   ]
  },
  {
   "cell_type": "code",
   "execution_count": 12,
   "metadata": {},
   "outputs": [
    {
     "output_type": "execute_result",
     "data": {
      "text/plain": "<Response [200]>"
     },
     "metadata": {},
     "execution_count": 12
    }
   ],
   "source": [
    "# your code here\n",
    "response = requests.get(url)\n",
    "response"
   ]
  },
  {
   "cell_type": "code",
   "execution_count": 13,
   "metadata": {},
   "outputs": [],
   "source": [
    "soup = BeautifulSoup(response.content, features='lxml')"
   ]
  },
  {
   "cell_type": "code",
   "execution_count": 14,
   "metadata": {
    "tags": []
   },
   "outputs": [
    {
     "output_type": "stream",
     "name": "stdout",
     "text": "['ChoudharyChanchal /game_control', 'voila-dashboards /voila', 'deezer /spleeter', 'tiangolo /fastapi', 'huggingface /nlp', 'Avik-Jain /100-Days-Of-ML-Code', 'Z4nzu /hackingtool', 'alan-turing-institute /sktime', 'OpenMined /PySyft', 'iperov /DeepFaceLab', 'nmccrea /sobot-rimulator', 'apache /airflow', 'open-mmlab /mmcv', 'open-mmlab /mmdetection3d', 'talkpython /python-for-absolute-beginners-course', 'tiangolo /full-stack-fastapi-postgresql', 'simonw /simonw', 'MobSF /Mobile-Security-Framework-MobSF', 'samuelcolvin /pydantic', 'apache /incubator-superset', 'horovod /horovod', 'OpenNMT /OpenNMT-py', 'UKPLab /sentence-transformers', 'DataDog /datadogpy', 'tiangolo /uwsgi-nginx-flask-docker']\n"
    }
   ],
   "source": [
    "repos = soup.find_all('h1', attrs={'class':'h3 lh-condensed'})\n",
    "\n",
    "repo_list = [repo.get_text(strip=True) for repo in repos]\n",
    "print(repo_list)"
   ]
  },
  {
   "cell_type": "markdown",
   "metadata": {},
   "source": [
    "#### 2. Display all the image links from Walt Disney wikipedia page.\n",
    "Hint: use `.get()` to access information inside tags. Check out the documentation."
   ]
  },
  {
   "cell_type": "code",
   "execution_count": 15,
   "metadata": {},
   "outputs": [],
   "source": [
    "# This is the url you will scrape in this exercise\n",
    "url = 'https://en.wikipedia.org/wiki/Walt_Disney'"
   ]
  },
  {
   "cell_type": "code",
   "execution_count": 16,
   "metadata": {},
   "outputs": [
    {
     "output_type": "execute_result",
     "data": {
      "text/plain": "<Response [200]>"
     },
     "metadata": {},
     "execution_count": 16
    }
   ],
   "source": [
    "# your code here\n",
    "response = requests.get(url)\n",
    "response"
   ]
  },
  {
   "cell_type": "code",
   "execution_count": 17,
   "metadata": {},
   "outputs": [],
   "source": [
    "soup = BeautifulSoup(response.content, features='lxml')\n"
   ]
  },
  {
   "cell_type": "code",
   "execution_count": 18,
   "metadata": {
    "tags": []
   },
   "outputs": [
    {
     "output_type": "execute_result",
     "data": {
      "text/plain": "['//upload.wikimedia.org/wikipedia/en/thumb/e/e7/Cscr-featured.svg/20px-Cscr-featured.svg.png',\n '//upload.wikimedia.org/wikipedia/en/thumb/8/8c/Extended-protection-shackle.svg/20px-Extended-protection-shackle.svg.png',\n '//upload.wikimedia.org/wikipedia/commons/thumb/d/df/Walt_Disney_1946.JPG/220px-Walt_Disney_1946.JPG',\n '//upload.wikimedia.org/wikipedia/commons/thumb/8/87/Walt_Disney_1942_signature.svg/150px-Walt_Disney_1942_signature.svg.png',\n '//upload.wikimedia.org/wikipedia/commons/thumb/c/c4/Walt_Disney_envelope_ca._1921.jpg/220px-Walt_Disney_envelope_ca._1921.jpg',\n '//upload.wikimedia.org/wikipedia/commons/thumb/4/4d/Newman_Laugh-O-Gram_%281921%29.webm/220px-seek%3D2-Newman_Laugh-O-Gram_%281921%29.webm.jpg',\n '//upload.wikimedia.org/wikipedia/commons/thumb/0/0d/Trolley_Troubles_poster.jpg/170px-Trolley_Troubles_poster.jpg',\n '//upload.wikimedia.org/wikipedia/commons/thumb/7/71/Walt_Disney_and_his_cartoon_creation_%22Mickey_Mouse%22_-_National_Board_of_Review_Magazine.jpg/170px-Walt_Disney_and_his_cartoon_creation_%22Mickey_Mouse%22_-_National_Board_of_Review_Magazine.jpg',\n '//upload.wikimedia.org/wikipedia/en/thumb/4/4e/Steamboat-willie.jpg/170px-Steamboat-willie.jpg',\n '//upload.wikimedia.org/wikipedia/commons/thumb/5/57/Walt_Disney_1935.jpg/170px-Walt_Disney_1935.jpg',\n '//upload.wikimedia.org/wikipedia/commons/thumb/c/cd/Walt_Disney_Snow_white_1937_trailer_screenshot_%2813%29.jpg/220px-Walt_Disney_Snow_white_1937_trailer_screenshot_%2813%29.jpg',\n '//upload.wikimedia.org/wikipedia/commons/thumb/1/15/Disney_drawing_goofy.jpg/170px-Disney_drawing_goofy.jpg',\n '//upload.wikimedia.org/wikipedia/commons/thumb/1/13/DisneySchiphol1951.jpg/220px-DisneySchiphol1951.jpg',\n '//upload.wikimedia.org/wikipedia/commons/thumb/8/8c/WaltDisneyplansDisneylandDec1954.jpg/220px-WaltDisneyplansDisneylandDec1954.jpg',\n '//upload.wikimedia.org/wikipedia/commons/thumb/f/ff/Walt_disney_portrait_right.jpg/170px-Walt_disney_portrait_right.jpg',\n '//upload.wikimedia.org/wikipedia/commons/thumb/1/1a/Walt_Disney_Grave.JPG/170px-Walt_Disney_Grave.JPG',\n '//upload.wikimedia.org/wikipedia/commons/thumb/2/2d/Roy_O._Disney_with_Company_at_Press_Conference.jpg/170px-Roy_O._Disney_with_Company_at_Press_Conference.jpg',\n '//upload.wikimedia.org/wikipedia/commons/thumb/a/a9/Disney_Display_Case.JPG/170px-Disney_Display_Case.JPG',\n '//upload.wikimedia.org/wikipedia/commons/thumb/6/6c/Disney1968.jpg/170px-Disney1968.jpg',\n '//upload.wikimedia.org/wikipedia/en/thumb/8/8a/OOjs_UI_icon_edit-ltr-progressive.svg/10px-OOjs_UI_icon_edit-ltr-progressive.svg.png',\n '//upload.wikimedia.org/wikipedia/commons/thumb/4/44/The_Walt_Disney_Company_Logo.svg/120px-The_Walt_Disney_Company_Logo.svg.png',\n '//upload.wikimedia.org/wikipedia/commons/thumb/d/da/Animation_disc.svg/30px-Animation_disc.svg.png',\n '//upload.wikimedia.org/wikipedia/en/thumb/6/69/P_vip.svg/29px-P_vip.svg.png',\n '//upload.wikimedia.org/wikipedia/commons/thumb/1/1a/Magic_Kingdom_castle.jpg/24px-Magic_Kingdom_castle.jpg',\n '//upload.wikimedia.org/wikipedia/en/thumb/e/e7/Video-x-generic.svg/30px-Video-x-generic.svg.png',\n '//upload.wikimedia.org/wikipedia/commons/thumb/a/a3/Flag_of_Los_Angeles_County%2C_California.svg/30px-Flag_of_Los_Angeles_County%2C_California.svg.png',\n '//upload.wikimedia.org/wikipedia/commons/thumb/8/8c/Blank_television_set.svg/30px-Blank_television_set.svg.png',\n '//upload.wikimedia.org/wikipedia/en/thumb/a/a4/Flag_of_the_United_States.svg/30px-Flag_of_the_United_States.svg.png',\n '//upload.wikimedia.org/wikipedia/en/thumb/4/4a/Commons-logo.svg/22px-Commons-logo.svg.png',\n '//upload.wikimedia.org/wikipedia/commons/thumb/f/fa/Wikiquote-logo.svg/25px-Wikiquote-logo.svg.png',\n '//upload.wikimedia.org/wikipedia/commons/thumb/f/ff/Wikidata-logo.svg/30px-Wikidata-logo.svg.png',\n '//upload.wikimedia.org/wikipedia/en/thumb/8/8a/OOjs_UI_icon_edit-ltr-progressive.svg/10px-OOjs_UI_icon_edit-ltr-progressive.svg.png',\n '//en.wikipedia.org/wiki/Special:CentralAutoLogin/start?type=1x1',\n '/static/images/wikimedia-button.png',\n '/static/images/poweredby_mediawiki_88x31.png']"
     },
     "metadata": {},
     "execution_count": 18
    }
   ],
   "source": [
    "images = soup.find_all('img')\n",
    "\n",
    "image_links = [img.get('src') for img in images]\n",
    "image_links"
   ]
  },
  {
   "cell_type": "code",
   "execution_count": null,
   "metadata": {},
   "outputs": [],
   "source": []
  },
  {
   "cell_type": "markdown",
   "metadata": {},
   "source": [
    "#### 2.1. List all language names and number of related articles in the order they appear in wikipedia.org."
   ]
  },
  {
   "cell_type": "code",
   "execution_count": 19,
   "metadata": {},
   "outputs": [],
   "source": [
    "# This is the url you will scrape in this exercise\n",
    "url = 'https://www.wikipedia.org/'"
   ]
  },
  {
   "cell_type": "code",
   "execution_count": 20,
   "metadata": {},
   "outputs": [
    {
     "output_type": "execute_result",
     "data": {
      "text/plain": "<Response [200]>"
     },
     "metadata": {},
     "execution_count": 20
    }
   ],
   "source": [
    "# your code here\n",
    "response = requests.get(url)\n",
    "response"
   ]
  },
  {
   "cell_type": "code",
   "execution_count": 21,
   "metadata": {},
   "outputs": [],
   "source": [
    "soup = BeautifulSoup(response.content, features='lxml')"
   ]
  },
  {
   "cell_type": "code",
   "execution_count": 22,
   "metadata": {},
   "outputs": [
    {
     "output_type": "execute_result",
     "data": {
      "text/plain": "[['English', '6121000+'],\n ['日本語', '1216000+'],\n ['Español', '1611000+'],\n ['Deutsch', '2455000+'],\n ['Русский', '1642000+'],\n ['Français', '2234000+'],\n ['Italiano', '1622000+'],\n ['中文', '1128000+'],\n ['Português', '1038000+'],\n ['Polski', '1419000+']]"
     },
     "metadata": {},
     "execution_count": 22
    }
   ],
   "source": [
    "langs = soup.find_all('div', {'class':'central-featured-lang'})\n",
    "\n",
    "lang_list = []\n",
    "for lang in langs:\n",
    "    lang_name =lang.find('strong').get_text()\n",
    "    lang_art =lang.find('bdi').get_text().replace('\\xa0','')\n",
    "    lang_list.append([lang_name, lang_art])\n",
    "lang_list\n"
   ]
  },
  {
   "cell_type": "markdown",
   "metadata": {},
   "source": [
    "#### 2.2. Display the top 10 languages by number of native speakers stored in a pandas dataframe.\n",
    "Hint: you can use a nested **for** loop to find the elements row by row."
   ]
  },
  {
   "cell_type": "code",
   "execution_count": 23,
   "metadata": {},
   "outputs": [],
   "source": [
    "# This is the url you will scrape in this exercise\n",
    "url = 'https://en.wikipedia.org/wiki/List_of_languages_by_number_of_native_speakers'"
   ]
  },
  {
   "cell_type": "code",
   "execution_count": 24,
   "metadata": {},
   "outputs": [
    {
     "output_type": "execute_result",
     "data": {
      "text/plain": "   Rank                            Language  Speakers(millions)  \\\n0     1                    Mandarin Chinese               918.0   \n1     2                             Spanish               480.0   \n2     3                             English               379.0   \n3     4  Hindi (Sanskritised Hindustani)[9]               341.0   \n4     5                             Bengali               228.0   \n5     6                          Portuguese               221.0   \n6     7                             Russian               154.0   \n7     8                            Japanese               128.0   \n8     9                 Western Punjabi[10]                92.7   \n9    10                             Marathi                83.1   \n\n   % of World pop.(March 2019)[8] Language family        Branch  \n0                          11.922    Sino-Tibetan       Sinitic  \n1                           5.994   Indo-European       Romance  \n2                           4.922   Indo-European      Germanic  \n3                           4.429   Indo-European    Indo-Aryan  \n4                           2.961   Indo-European    Indo-Aryan  \n5                           2.870   Indo-European       Romance  \n6                           2.000   Indo-European  Balto-Slavic  \n7                           1.662         Japonic      Japanese  \n8                           1.204   Indo-European    Indo-Aryan  \n9                           1.079   Indo-European    Indo-Aryan  ",
      "text/html": "<div>\n<style scoped>\n    .dataframe tbody tr th:only-of-type {\n        vertical-align: middle;\n    }\n\n    .dataframe tbody tr th {\n        vertical-align: top;\n    }\n\n    .dataframe thead th {\n        text-align: right;\n    }\n</style>\n<table border=\"1\" class=\"dataframe\">\n  <thead>\n    <tr style=\"text-align: right;\">\n      <th></th>\n      <th>Rank</th>\n      <th>Language</th>\n      <th>Speakers(millions)</th>\n      <th>% of World pop.(March 2019)[8]</th>\n      <th>Language family</th>\n      <th>Branch</th>\n    </tr>\n  </thead>\n  <tbody>\n    <tr>\n      <th>0</th>\n      <td>1</td>\n      <td>Mandarin Chinese</td>\n      <td>918.0</td>\n      <td>11.922</td>\n      <td>Sino-Tibetan</td>\n      <td>Sinitic</td>\n    </tr>\n    <tr>\n      <th>1</th>\n      <td>2</td>\n      <td>Spanish</td>\n      <td>480.0</td>\n      <td>5.994</td>\n      <td>Indo-European</td>\n      <td>Romance</td>\n    </tr>\n    <tr>\n      <th>2</th>\n      <td>3</td>\n      <td>English</td>\n      <td>379.0</td>\n      <td>4.922</td>\n      <td>Indo-European</td>\n      <td>Germanic</td>\n    </tr>\n    <tr>\n      <th>3</th>\n      <td>4</td>\n      <td>Hindi (Sanskritised Hindustani)[9]</td>\n      <td>341.0</td>\n      <td>4.429</td>\n      <td>Indo-European</td>\n      <td>Indo-Aryan</td>\n    </tr>\n    <tr>\n      <th>4</th>\n      <td>5</td>\n      <td>Bengali</td>\n      <td>228.0</td>\n      <td>2.961</td>\n      <td>Indo-European</td>\n      <td>Indo-Aryan</td>\n    </tr>\n    <tr>\n      <th>5</th>\n      <td>6</td>\n      <td>Portuguese</td>\n      <td>221.0</td>\n      <td>2.870</td>\n      <td>Indo-European</td>\n      <td>Romance</td>\n    </tr>\n    <tr>\n      <th>6</th>\n      <td>7</td>\n      <td>Russian</td>\n      <td>154.0</td>\n      <td>2.000</td>\n      <td>Indo-European</td>\n      <td>Balto-Slavic</td>\n    </tr>\n    <tr>\n      <th>7</th>\n      <td>8</td>\n      <td>Japanese</td>\n      <td>128.0</td>\n      <td>1.662</td>\n      <td>Japonic</td>\n      <td>Japanese</td>\n    </tr>\n    <tr>\n      <th>8</th>\n      <td>9</td>\n      <td>Western Punjabi[10]</td>\n      <td>92.7</td>\n      <td>1.204</td>\n      <td>Indo-European</td>\n      <td>Indo-Aryan</td>\n    </tr>\n    <tr>\n      <th>9</th>\n      <td>10</td>\n      <td>Marathi</td>\n      <td>83.1</td>\n      <td>1.079</td>\n      <td>Indo-European</td>\n      <td>Indo-Aryan</td>\n    </tr>\n  </tbody>\n</table>\n</div>"
     },
     "metadata": {},
     "execution_count": 24
    }
   ],
   "source": [
    "# your code here\n",
    "df = pd.read_html(url)\n",
    "df[0].head(10)"
   ]
  },
  {
   "cell_type": "markdown",
   "metadata": {},
   "source": [
    "#### 3. Display IMDB's top 250 data (movie name, initial release, director name and stars) as a pandas dataframe."
   ]
  },
  {
   "cell_type": "code",
   "execution_count": 25,
   "metadata": {},
   "outputs": [],
   "source": [
    "# This is the url you will scrape in this exercise \n",
    "url = 'https://www.imdb.com/chart/top'"
   ]
  },
  {
   "cell_type": "code",
   "execution_count": 26,
   "metadata": {},
   "outputs": [
    {
     "output_type": "execute_result",
     "data": {
      "text/plain": "<Response [200]>"
     },
     "metadata": {},
     "execution_count": 26
    }
   ],
   "source": [
    "# your code here\n",
    "response = requests.get(url)\n",
    "response"
   ]
  },
  {
   "cell_type": "code",
   "execution_count": 27,
   "metadata": {},
   "outputs": [],
   "source": [
    "soup = BeautifulSoup(response.content, features='lxml')"
   ]
  },
  {
   "cell_type": "code",
   "execution_count": 28,
   "metadata": {
    "tags": []
   },
   "outputs": [
    {
     "output_type": "execute_result",
     "data": {
      "text/plain": "     Pos.                  Movie Name Initial Release         Director Name  \\\nPos.                                                                          \n1       1  Os Condenados de Shawshank            1994        Frank Darabont   \n2       2                  O Padrinho            1972  Francis Ford Coppola   \n3       3        O Padrinho: Parte II            1974  Francis Ford Coppola   \n4       4      O Cavaleiro das Trevas            2008     Christopher Nolan   \n5       5        Doze Homens em Fúria            1957          Sidney Lumet   \n...   ...                         ...             ...                   ...   \n246   246                          PK            2014       Rajkumar Hirani   \n247   247          A Batalha de Argel            1966      Gillo Pontecorvo   \n248   248                     Aladdin            1992          Ron Clements   \n249   249              Koe no katachi            2016          Naoko Yamada   \n250   250             Trono de Sangue            1957        Akira Kurosawa   \n\n                              Stars  \nPos.                                 \n1       Tim Robbins, Morgan Freeman  \n2          Marlon Brando, Al Pacino  \n3         Al Pacino, Robert De Niro  \n4      Christian Bale, Heath Ledger  \n5          Henry Fonda, Lee J. Cobb  \n...                             ...  \n246      Aamir Khan, Anushka Sharma  \n247     Brahim Hadjadj, Jean Martin  \n248   Scott Weinger, Robin Williams  \n249        Miyu Irino, Saori Hayami  \n250   Toshirô Mifune, Minoru Chiaki  \n\n[250 rows x 5 columns]",
      "text/html": "<div>\n<style scoped>\n    .dataframe tbody tr th:only-of-type {\n        vertical-align: middle;\n    }\n\n    .dataframe tbody tr th {\n        vertical-align: top;\n    }\n\n    .dataframe thead th {\n        text-align: right;\n    }\n</style>\n<table border=\"1\" class=\"dataframe\">\n  <thead>\n    <tr style=\"text-align: right;\">\n      <th></th>\n      <th>Pos.</th>\n      <th>Movie Name</th>\n      <th>Initial Release</th>\n      <th>Director Name</th>\n      <th>Stars</th>\n    </tr>\n    <tr>\n      <th>Pos.</th>\n      <th></th>\n      <th></th>\n      <th></th>\n      <th></th>\n      <th></th>\n    </tr>\n  </thead>\n  <tbody>\n    <tr>\n      <th>1</th>\n      <td>1</td>\n      <td>Os Condenados de Shawshank</td>\n      <td>1994</td>\n      <td>Frank Darabont</td>\n      <td>Tim Robbins, Morgan Freeman</td>\n    </tr>\n    <tr>\n      <th>2</th>\n      <td>2</td>\n      <td>O Padrinho</td>\n      <td>1972</td>\n      <td>Francis Ford Coppola</td>\n      <td>Marlon Brando, Al Pacino</td>\n    </tr>\n    <tr>\n      <th>3</th>\n      <td>3</td>\n      <td>O Padrinho: Parte II</td>\n      <td>1974</td>\n      <td>Francis Ford Coppola</td>\n      <td>Al Pacino, Robert De Niro</td>\n    </tr>\n    <tr>\n      <th>4</th>\n      <td>4</td>\n      <td>O Cavaleiro das Trevas</td>\n      <td>2008</td>\n      <td>Christopher Nolan</td>\n      <td>Christian Bale, Heath Ledger</td>\n    </tr>\n    <tr>\n      <th>5</th>\n      <td>5</td>\n      <td>Doze Homens em Fúria</td>\n      <td>1957</td>\n      <td>Sidney Lumet</td>\n      <td>Henry Fonda, Lee J. Cobb</td>\n    </tr>\n    <tr>\n      <th>...</th>\n      <td>...</td>\n      <td>...</td>\n      <td>...</td>\n      <td>...</td>\n      <td>...</td>\n    </tr>\n    <tr>\n      <th>246</th>\n      <td>246</td>\n      <td>PK</td>\n      <td>2014</td>\n      <td>Rajkumar Hirani</td>\n      <td>Aamir Khan, Anushka Sharma</td>\n    </tr>\n    <tr>\n      <th>247</th>\n      <td>247</td>\n      <td>A Batalha de Argel</td>\n      <td>1966</td>\n      <td>Gillo Pontecorvo</td>\n      <td>Brahim Hadjadj, Jean Martin</td>\n    </tr>\n    <tr>\n      <th>248</th>\n      <td>248</td>\n      <td>Aladdin</td>\n      <td>1992</td>\n      <td>Ron Clements</td>\n      <td>Scott Weinger, Robin Williams</td>\n    </tr>\n    <tr>\n      <th>249</th>\n      <td>249</td>\n      <td>Koe no katachi</td>\n      <td>2016</td>\n      <td>Naoko Yamada</td>\n      <td>Miyu Irino, Saori Hayami</td>\n    </tr>\n    <tr>\n      <th>250</th>\n      <td>250</td>\n      <td>Trono de Sangue</td>\n      <td>1957</td>\n      <td>Akira Kurosawa</td>\n      <td>Toshirô Mifune, Minoru Chiaki</td>\n    </tr>\n  </tbody>\n</table>\n<p>250 rows × 5 columns</p>\n</div>"
     },
     "metadata": {},
     "execution_count": 28
    }
   ],
   "source": [
    "table = soup.find('table', {'class':'chart full-width'})\n",
    "table_rows = table.find_all('tr')\n",
    "\n",
    "top250_dict = []\n",
    "\n",
    "for n in range(1,len(table_rows)):\n",
    "\n",
    "    td_poster = table_rows[n].find('td', {'class':'posterColumn'})\n",
    "    td_title = table_rows[n].find('td', {'class':'titleColumn'})\n",
    "    td_rating = table_rows[n].find('td', {'class':'ratingColumn imdbRating'})\n",
    "\n",
    "    pos = td_poster.find('span', {'name':'rk'}).get('data-value')\n",
    "    movie_name = td_title.find('a').get_text(strip=True)\n",
    "    release = td_title.find('span', {'class':'secondaryInfo'}).get_text(strip=True).replace('(','').replace(')','')\n",
    "    director, stars = td_title.find('a').get('title').split(' (dir.), ')\n",
    "\n",
    "    top250_dict.append({'Pos.': pos,\n",
    "        'Movie Name': movie_name,\n",
    "        'Initial Release': release,\n",
    "        'Director Name': director,\n",
    "        'Stars': stars})\n",
    "\n",
    "df = pd.DataFrame(top250_dict)\n",
    "df.index = df['Pos.']\n",
    "df"
   ]
  },
  {
   "cell_type": "markdown",
   "metadata": {},
   "source": [
    "#### 3.1. Display the movie name, year and a brief summary of the top 10 random movies (IMDB) as a pandas dataframe."
   ]
  },
  {
   "cell_type": "code",
   "execution_count": 29,
   "metadata": {},
   "outputs": [],
   "source": [
    "#This is the url you will scrape in this exercise\n",
    "url = 'http://www.imdb.com/chart/top'"
   ]
  },
  {
   "cell_type": "code",
   "execution_count": 62,
   "metadata": {
    "tags": []
   },
   "outputs": [
    {
     "output_type": "execute_result",
     "data": {
      "text/plain": "     Pos.                                Movie Name Initial Release  \\\nPos.                                                                  \n1       1                Os Condenados de Shawshank            1994   \n2       2                                O Padrinho            1972   \n3       3                      O Padrinho: Parte II            1974   \n4       4                    O Cavaleiro das Trevas            2008   \n5       5                      Doze Homens em Fúria            1957   \n6       6                      A Lista de Schindler            1993   \n7       7    O Senhor dos Anéis - O Regresso do Rei            2003   \n8       8                              Pulp Fiction            1994   \n9       9                    O Bom, o Mau e o Vilão            1966   \n10     10  O Senhor dos Anéis - A Irmandade do Anel            2001   \n\n                                                Summary  \nPos.                                                     \n1     Two imprisoned men bond over a number of years...  \n2     The aging patriarch of an organized crime dyna...  \n3     The early life and career of Vito Corleone in ...  \n4     When the menace known as the Joker wreaks havo...  \n5     A jury holdout attempts to prevent a miscarria...  \n6     In German-occupied Poland during World War II,...  \n7     Gandalf and Aragorn lead the World of Men agai...  \n8     The lives of two mob hitmen, a boxer, a gangst...  \n9     A bounty hunting scam joins two men in an unea...  \n10    A meek Hobbit from the Shire and eight compani...  ",
      "text/html": "<div>\n<style scoped>\n    .dataframe tbody tr th:only-of-type {\n        vertical-align: middle;\n    }\n\n    .dataframe tbody tr th {\n        vertical-align: top;\n    }\n\n    .dataframe thead th {\n        text-align: right;\n    }\n</style>\n<table border=\"1\" class=\"dataframe\">\n  <thead>\n    <tr style=\"text-align: right;\">\n      <th></th>\n      <th>Pos.</th>\n      <th>Movie Name</th>\n      <th>Initial Release</th>\n      <th>Summary</th>\n    </tr>\n    <tr>\n      <th>Pos.</th>\n      <th></th>\n      <th></th>\n      <th></th>\n      <th></th>\n    </tr>\n  </thead>\n  <tbody>\n    <tr>\n      <th>1</th>\n      <td>1</td>\n      <td>Os Condenados de Shawshank</td>\n      <td>1994</td>\n      <td>Two imprisoned men bond over a number of years...</td>\n    </tr>\n    <tr>\n      <th>2</th>\n      <td>2</td>\n      <td>O Padrinho</td>\n      <td>1972</td>\n      <td>The aging patriarch of an organized crime dyna...</td>\n    </tr>\n    <tr>\n      <th>3</th>\n      <td>3</td>\n      <td>O Padrinho: Parte II</td>\n      <td>1974</td>\n      <td>The early life and career of Vito Corleone in ...</td>\n    </tr>\n    <tr>\n      <th>4</th>\n      <td>4</td>\n      <td>O Cavaleiro das Trevas</td>\n      <td>2008</td>\n      <td>When the menace known as the Joker wreaks havo...</td>\n    </tr>\n    <tr>\n      <th>5</th>\n      <td>5</td>\n      <td>Doze Homens em Fúria</td>\n      <td>1957</td>\n      <td>A jury holdout attempts to prevent a miscarria...</td>\n    </tr>\n    <tr>\n      <th>6</th>\n      <td>6</td>\n      <td>A Lista de Schindler</td>\n      <td>1993</td>\n      <td>In German-occupied Poland during World War II,...</td>\n    </tr>\n    <tr>\n      <th>7</th>\n      <td>7</td>\n      <td>O Senhor dos Anéis - O Regresso do Rei</td>\n      <td>2003</td>\n      <td>Gandalf and Aragorn lead the World of Men agai...</td>\n    </tr>\n    <tr>\n      <th>8</th>\n      <td>8</td>\n      <td>Pulp Fiction</td>\n      <td>1994</td>\n      <td>The lives of two mob hitmen, a boxer, a gangst...</td>\n    </tr>\n    <tr>\n      <th>9</th>\n      <td>9</td>\n      <td>O Bom, o Mau e o Vilão</td>\n      <td>1966</td>\n      <td>A bounty hunting scam joins two men in an unea...</td>\n    </tr>\n    <tr>\n      <th>10</th>\n      <td>10</td>\n      <td>O Senhor dos Anéis - A Irmandade do Anel</td>\n      <td>2001</td>\n      <td>A meek Hobbit from the Shire and eight compani...</td>\n    </tr>\n  </tbody>\n</table>\n</div>"
     },
     "metadata": {},
     "execution_count": 62
    }
   ],
   "source": [
    "# your code here\n",
    "url = 'http://www.imdb.com/chart/top'\n",
    "new_df = df[['Pos.', 'Movie Name','Initial Release']].head(10)\n",
    "sum_texts = []\n",
    "for i in range(1,11):\n",
    "    url = 'http://www.imdb.com' + table_rows[i].find('a').get('href')\n",
    "    response = requests.get(url)\n",
    "    soup = BeautifulSoup(response.content, features='lxml')\n",
    "    sum_text = soup.find('div', {'class':'summary_text'}).get_text(strip=True)\n",
    "    sum_texts.append(sum_text)\n",
    "new_df['Summary'] = sum_texts\n",
    "new_df"
   ]
  },
  {
   "cell_type": "code",
   "execution_count": 58,
   "metadata": {},
   "outputs": [
    {
     "output_type": "execute_result",
     "data": {
      "text/plain": "'Two imprisoned men bond over a number of years, finding solace and eventual redemption through acts of common decency.'"
     },
     "metadata": {},
     "execution_count": 58
    }
   ],
   "source": []
  },
  {
   "cell_type": "markdown",
   "metadata": {},
   "source": [
    "### 4. Twitter Scraping\n",
    "You can do it by using twitter's API or by inspecting the page.<br>\n",
    "<br> If you choose to do it by inspecting the page you will notice that the tags shown in the browser are not the same as shown on the soup, because of dinamic content. However, in this case, you will be able to get the information needed by printing the soup here and manually finding the desired tags (you can use ctrl+f to help). <br>\n",
    "<br> Ask the user for the handle (@handle) of a twitter account. You will need to include a ***try/except block*** for account names not found.<br>\n",
    "<br> Get the information required bellow:"
   ]
  },
  {
   "cell_type": "markdown",
   "metadata": {},
   "source": [
    "#### 4.1. Inform the total number of tweets by a given Twitter account."
   ]
  },
  {
   "cell_type": "code",
   "execution_count": 31,
   "metadata": {},
   "outputs": [],
   "source": [
    "# This is the url you will scrape in this exercise \n",
    "# You will need to add the account credentials to this url\n",
    "url = 'https://twitter.com/'"
   ]
  },
  {
   "cell_type": "code",
   "execution_count": 32,
   "metadata": {},
   "outputs": [],
   "source": [
    "# your code here"
   ]
  },
  {
   "cell_type": "markdown",
   "metadata": {},
   "source": [
    "#### 4.2. Inform the number of followers of a given twitter account"
   ]
  },
  {
   "cell_type": "code",
   "execution_count": 33,
   "metadata": {},
   "outputs": [],
   "source": [
    "# your code here"
   ]
  },
  {
   "cell_type": "markdown",
   "metadata": {},
   "source": [
    "#### 4.3. Scrape a certain number of tweets of a given Twitter account."
   ]
  },
  {
   "cell_type": "code",
   "execution_count": 34,
   "metadata": {},
   "outputs": [],
   "source": [
    "# your code here"
   ]
  },
  {
   "cell_type": "markdown",
   "metadata": {},
   "source": [
    "## Bonus"
   ]
  },
  {
   "cell_type": "markdown",
   "metadata": {},
   "source": [
    "#### Find the live weather report (temperature, wind speed, description and weather) of a given city."
   ]
  },
  {
   "cell_type": "code",
   "execution_count": 35,
   "metadata": {},
   "outputs": [
    {
     "output_type": "error",
     "ename": "KeyboardInterrupt",
     "evalue": "Interrupted by user",
     "traceback": [
      "\u001b[1;31m---------------------------------------------------------------------------\u001b[0m",
      "\u001b[1;31mKeyboardInterrupt\u001b[0m                         Traceback (most recent call last)",
      "\u001b[1;32m<ipython-input-35-0299fa35631a>\u001b[0m in \u001b[0;36m<module>\u001b[1;34m\u001b[0m\n\u001b[0;32m      1\u001b[0m \u001b[1;31m#https://openweathermap.org/current\u001b[0m\u001b[1;33m\u001b[0m\u001b[1;33m\u001b[0m\u001b[1;33m\u001b[0m\u001b[0m\n\u001b[1;32m----> 2\u001b[1;33m \u001b[0mcity\u001b[0m \u001b[1;33m=\u001b[0m \u001b[0minput\u001b[0m\u001b[1;33m(\u001b[0m\u001b[1;34m'Enter the city: '\u001b[0m\u001b[1;33m)\u001b[0m\u001b[1;33m\u001b[0m\u001b[1;33m\u001b[0m\u001b[0m\n\u001b[0m\u001b[0;32m      3\u001b[0m \u001b[0murl\u001b[0m \u001b[1;33m=\u001b[0m \u001b[1;34m'http://api.openweathermap.org/data/2.5/weather?'\u001b[0m\u001b[1;33m+\u001b[0m\u001b[1;34m'q='\u001b[0m\u001b[1;33m+\u001b[0m\u001b[0mcity\u001b[0m\u001b[1;33m+\u001b[0m\u001b[1;34m'&APPID=b35975e18dc93725acb092f7272cc6b8&units=metric'\u001b[0m\u001b[1;33m\u001b[0m\u001b[1;33m\u001b[0m\u001b[0m\n",
      "\u001b[1;32m~\\AppData\\Roaming\\Python\\Python38\\site-packages\\ipykernel\\kernelbase.py\u001b[0m in \u001b[0;36mraw_input\u001b[1;34m(self, prompt)\u001b[0m\n\u001b[0;32m    858\u001b[0m                 \u001b[1;34m\"raw_input was called, but this frontend does not support input requests.\"\u001b[0m\u001b[1;33m\u001b[0m\u001b[1;33m\u001b[0m\u001b[0m\n\u001b[0;32m    859\u001b[0m             )\n\u001b[1;32m--> 860\u001b[1;33m         return self._input_request(str(prompt),\n\u001b[0m\u001b[0;32m    861\u001b[0m             \u001b[0mself\u001b[0m\u001b[1;33m.\u001b[0m\u001b[0m_parent_ident\u001b[0m\u001b[1;33m,\u001b[0m\u001b[1;33m\u001b[0m\u001b[1;33m\u001b[0m\u001b[0m\n\u001b[0;32m    862\u001b[0m             \u001b[0mself\u001b[0m\u001b[1;33m.\u001b[0m\u001b[0m_parent_header\u001b[0m\u001b[1;33m,\u001b[0m\u001b[1;33m\u001b[0m\u001b[1;33m\u001b[0m\u001b[0m\n",
      "\u001b[1;32m~\\AppData\\Roaming\\Python\\Python38\\site-packages\\ipykernel\\kernelbase.py\u001b[0m in \u001b[0;36m_input_request\u001b[1;34m(self, prompt, ident, parent, password)\u001b[0m\n\u001b[0;32m    902\u001b[0m             \u001b[1;32mexcept\u001b[0m \u001b[0mKeyboardInterrupt\u001b[0m\u001b[1;33m:\u001b[0m\u001b[1;33m\u001b[0m\u001b[1;33m\u001b[0m\u001b[0m\n\u001b[0;32m    903\u001b[0m                 \u001b[1;31m# re-raise KeyboardInterrupt, to truncate traceback\u001b[0m\u001b[1;33m\u001b[0m\u001b[1;33m\u001b[0m\u001b[1;33m\u001b[0m\u001b[0m\n\u001b[1;32m--> 904\u001b[1;33m                 \u001b[1;32mraise\u001b[0m \u001b[0mKeyboardInterrupt\u001b[0m\u001b[1;33m(\u001b[0m\u001b[1;34m\"Interrupted by user\"\u001b[0m\u001b[1;33m)\u001b[0m \u001b[1;32mfrom\u001b[0m \u001b[1;32mNone\u001b[0m\u001b[1;33m\u001b[0m\u001b[1;33m\u001b[0m\u001b[0m\n\u001b[0m\u001b[0;32m    905\u001b[0m             \u001b[1;32mexcept\u001b[0m \u001b[0mException\u001b[0m \u001b[1;32mas\u001b[0m \u001b[0me\u001b[0m\u001b[1;33m:\u001b[0m\u001b[1;33m\u001b[0m\u001b[1;33m\u001b[0m\u001b[0m\n\u001b[0;32m    906\u001b[0m                 \u001b[0mself\u001b[0m\u001b[1;33m.\u001b[0m\u001b[0mlog\u001b[0m\u001b[1;33m.\u001b[0m\u001b[0mwarning\u001b[0m\u001b[1;33m(\u001b[0m\u001b[1;34m\"Invalid Message:\"\u001b[0m\u001b[1;33m,\u001b[0m \u001b[0mexc_info\u001b[0m\u001b[1;33m=\u001b[0m\u001b[1;32mTrue\u001b[0m\u001b[1;33m)\u001b[0m\u001b[1;33m\u001b[0m\u001b[1;33m\u001b[0m\u001b[0m\n",
      "\u001b[1;31mKeyboardInterrupt\u001b[0m: Interrupted by user"
     ]
    }
   ],
   "source": [
    "#https://openweathermap.org/current\n",
    "city = input('Enter the city: ')\n",
    "url = 'http://api.openweathermap.org/data/2.5/weather?'+'q='+city+'&APPID=b35975e18dc93725acb092f7272cc6b8&units=metric'"
   ]
  },
  {
   "cell_type": "code",
   "execution_count": 142,
   "metadata": {},
   "outputs": [],
   "source": [
    "# your code here"
   ]
  },
  {
   "cell_type": "markdown",
   "metadata": {},
   "source": [
    "#### Find the book name, price and stock availability as a pandas dataframe."
   ]
  },
  {
   "cell_type": "code",
   "execution_count": 143,
   "metadata": {},
   "outputs": [],
   "source": [
    "# This is the url you will scrape in this exercise. \n",
    "# It is a fictional bookstore created to be scraped. \n",
    "url = 'http://books.toscrape.com/'"
   ]
  },
  {
   "cell_type": "code",
   "execution_count": 144,
   "metadata": {},
   "outputs": [],
   "source": [
    "# your code here"
   ]
  },
  {
   "cell_type": "markdown",
   "metadata": {},
   "source": [
    "####  Display the 100 latest earthquakes info (date, time, latitude, longitude and region name) by the EMSC as a pandas dataframe.\n",
    "***Hint:*** Here the displayed number of earthquakes per page is 20, but you can easily move to the next page by looping through the desired number of pages and adding it to the end of the url."
   ]
  },
  {
   "cell_type": "code",
   "execution_count": 145,
   "metadata": {},
   "outputs": [
    {
     "output_type": "execute_result",
     "data": {
      "text/plain": "['https://www.emsc-csem.org/Earthquake/?view=1',\n 'https://www.emsc-csem.org/Earthquake/?view=2',\n 'https://www.emsc-csem.org/Earthquake/?view=3',\n 'https://www.emsc-csem.org/Earthquake/?view=4',\n 'https://www.emsc-csem.org/Earthquake/?view=5']"
     },
     "metadata": {},
     "execution_count": 145
    }
   ],
   "source": [
    "# This is the url you will scrape in this exercise\n",
    "url = 'https://www.emsc-csem.org/Earthquake/?view='\n",
    "\n",
    "# This is how you will loop through each page:\n",
    "number_of_pages = int(100/20)\n",
    "each_page_urls = []\n",
    "\n",
    "for n in range(1, number_of_pages+1):\n",
    "    link = url+str(n)\n",
    "    each_page_urls.append(link)\n",
    "    \n",
    "each_page_urls"
   ]
  },
  {
   "cell_type": "code",
   "execution_count": 146,
   "metadata": {},
   "outputs": [],
   "source": [
    "# your code here"
   ]
  }
 ],
 "metadata": {
  "kernelspec": {
   "display_name": "Python 3.8.2 32-bit",
   "language": "python",
   "name": "python_defaultSpec_1594759048319"
  },
  "language_info": {
   "codemirror_mode": {
    "name": "ipython",
    "version": 3
   },
   "file_extension": ".py",
   "mimetype": "text/x-python",
   "name": "python",
   "nbconvert_exporter": "python",
   "pygments_lexer": "ipython3",
   "version": "3.7.4"
  }
 },
 "nbformat": 4,
 "nbformat_minor": 2
}